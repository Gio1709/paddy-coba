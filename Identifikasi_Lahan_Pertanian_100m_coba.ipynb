{
  "nbformat": 4,
  "nbformat_minor": 0,
  "metadata": {
    "colab": {
      "name": "bamboo_forest_detection.ipynb",
      "provenance": [],
      "collapsed_sections": [],
      "toc_visible": true,
      "machine_shape": "hm",
      "include_colab_link": true
    },
    "kernelspec": {
      "name": "python3",
      "display_name": "Python 3"
    },
    "accelerator": "GPU"
  },
  "cells": [
    {
      "cell_type": "markdown",
      "metadata": {
        "id": "view-in-github",
        "colab_type": "text"
      },
      "source": [
        "<a href=\"https://colab.research.google.com/github/Gio1709/paddy-coba/blob/master/Identifikasi_Lahan_Pertanian_100m_coba.ipynb\" target=\"_parent\"><img src=\"https://colab.research.google.com/assets/colab-badge.svg\" alt=\"Open In Colab\"/></a>"
      ]
    },
    {
      "cell_type": "markdown",
      "metadata": {
        "id": "brOcgtydMQzx",
        "colab_type": "text"
      },
      "source": [
        "# **IDENTIFIKASI VEGETASI OTOMATIS DENGAN GAMBAR GOOGLE EARTH MENGGUNAKAN CONVOLUTIONAL NEURAL NETWORK** "
      ]
    },
    {
      "cell_type": "markdown",
      "metadata": {
        "id": "yH5iC3HNIUTK",
        "colab_type": "text"
      },
      "source": [
        "# Preferensi"
      ]
    },
    {
      "cell_type": "markdown",
      "metadata": {
        "id": "qCmucczWMUQX",
        "colab_type": "text"
      },
      "source": [
        "Penelitian Sebelumnya :\n",
        "**Metode Convolutional Neural Network pada Gambar Google Earth Hutan Bambu di Jepang dengan .** \n",
        "\n",
        "*Shuntaro Watanabe, Kazuaki Sumi, Takeshi Ise*\n",
        "\n",
        "link sebagai berikut : https://doi.org/10.1101/351643"
      ]
    },
    {
      "cell_type": "markdown",
      "metadata": {
        "id": "tGAeIgbCHHOy",
        "colab_type": "text"
      },
      "source": [
        "**Note**\n",
        "\n",
        "Penelitian ini mengambil konsep dari peneliti asal Jepang yang mengidentifikasikan vegatasi akurasi tinggi lahan hutan bamboo di beberapa wilayah Jepang, dengan klasisfikasi CNN, dan dilakukan dengan metode chopped-image.\n",
        "\n",
        "Sedangkan pada penelitian ini memiliki konsep yang serupa dengan penelitian sebelumnya, akan tetapi mengambil sampel yang dilakukan lahan persawahan di Kabupaten Banyumas. \n",
        "\n",
        "Peneliti : Fendy Prayogi\n",
        "\n",
        "Repositori tersedia pada : https://github.com/Gio1709/paddy\n"
      ]
    },
    {
      "cell_type": "markdown",
      "metadata": {
        "id": "zvIHPsgOTYjR",
        "colab_type": "text"
      },
      "source": [
        "# Mengimpor/Mengambil Fungsi Library"
      ]
    },
    {
      "cell_type": "code",
      "metadata": {
        "id": "LuuilDHsTkGE",
        "colab_type": "code",
        "outputId": "ff6b13ea-809f-4841-f32d-daa80ce2ff38",
        "colab": {
          "base_uri": "https://localhost:8080/"
        }
      },
      "source": [
        "!pip install slidingwindow\n",
        "import slidingwindow as sw\n",
        "import numpy as np\n",
        "import os\n",
        "import keras.backend as K\n",
        "import keras\n",
        "from keras.models import Sequential\n",
        "from keras import layers\n",
        "from keras.preprocessing.image import load_img, img_to_array\n",
        "import matplotlib.pyplot as plt\n",
        "from skimage.io import imread, imsave\n",
        "from skimage.transform import resize\n",
        "from sklearn.utils.class_weight import compute_class_weight\n",
        "\n",
        "from sklearn import svm, datasets\n",
        "from sklearn.model_selection import train_test_split\n",
        "from sklearn.metrics import confusion_matrix\n",
        "from sklearn.utils.multiclass import unique_labels\n",
        "\n"
      ],
      "execution_count": 1,
      "outputs": [
        {
          "output_type": "stream",
          "text": [
            "Collecting slidingwindow\n",
            "  Downloading https://files.pythonhosted.org/packages/3d/15/a2a2dc82fe9fa9699062b24e84e2cd2620f4ac0e2089d24eb8d0de0ce7ec/slidingwindow-0.0.13-py2.py3-none-any.whl\n",
            "Requirement already satisfied: numpy in /usr/local/lib/python3.6/dist-packages (from slidingwindow) (1.17.4)\n",
            "Requirement already satisfied: psutil in /usr/local/lib/python3.6/dist-packages (from slidingwindow) (5.4.8)\n",
            "Installing collected packages: slidingwindow\n",
            "Successfully installed slidingwindow-0.0.13\n"
          ],
          "name": "stdout"
        },
        {
          "output_type": "stream",
          "text": [
            "Using TensorFlow backend.\n"
          ],
          "name": "stderr"
        },
        {
          "output_type": "display_data",
          "data": {
            "text/html": [
              "<p style=\"color: red;\">\n",
              "The default version of TensorFlow in Colab will soon switch to TensorFlow 2.x.<br>\n",
              "We recommend you <a href=\"https://www.tensorflow.org/guide/migrate\" target=\"_blank\">upgrade</a> now \n",
              "or ensure your notebook will continue to use TensorFlow 1.x via the <code>%tensorflow_version 1.x</code> magic:\n",
              "<a href=\"https://colab.research.google.com/notebooks/tensorflow_version.ipynb\" target=\"_blank\">more info</a>.</p>\n"
            ],
            "text/plain": [
              "<IPython.core.display.HTML object>"
            ]
          },
          "metadata": {
            "tags": []
          }
        }
      ]
    },
    {
      "cell_type": "markdown",
      "metadata": {
        "id": "vrjdy-qqOJIX",
        "colab_type": "text"
      },
      "source": [
        "# Mengambil Dataset dari Github"
      ]
    },
    {
      "cell_type": "code",
      "metadata": {
        "id": "B2bgqt_hMVum",
        "colab_type": "code",
        "colab": {}
      },
      "source": [
        "# Mengambil dataset dari github\n",
        "\n",
        "#!apt-get install subversion > /dev/null\n",
        "#!svn export https://github.com/Gio1709/paddy/trunk/data > /dev/null \n",
        "\n",
        "#!apt-get install subversion > /dev/null\n",
        "#!svn export https://github.com/Gio1709/paddy_100/trunk/data > /dev/null \n",
        "\n",
        "#!apt-get install subversion > /dev/null\n",
        "#!svn export https://github.com/Gio1709/paddy_300/trunk/data > /dev/null \n",
        "\n",
        "!apt-get install subversion > /dev/null\n",
        "!svn export https://github.com/Gio1709/paddy-coba/trunk/data/ > /dev/null \n",
        "\n",
        "#!wget https://raw.githubusercontent.com/Gio1709/paddy/master/paddy.zip paddy.zip\n",
        "#!unzip -P paddy paddy.zip\n"
      ],
      "execution_count": 0,
      "outputs": []
    },
    {
      "cell_type": "markdown",
      "metadata": {
        "id": "4tVFqPVB7MLy",
        "colab_type": "text"
      },
      "source": [
        "**Persiapan :**\n",
        "\n",
        "*Program ini dibuat untuk mengidentifikasi lahan sawah dan luas di Kabupaten Banyumas*\n",
        "\n",
        "File tersimpan dalam folder :\n",
        "1. */chopped*\n",
        "2. */train*\n",
        "3. */test* "
      ]
    },
    {
      "cell_type": "markdown",
      "metadata": {
        "id": "-bkcdkiP8wwW",
        "colab_type": "text"
      },
      "source": [
        "# Mengimpor Datasheet"
      ]
    },
    {
      "cell_type": "code",
      "metadata": {
        "id": "P3AD0x3_Sqjr",
        "colab_type": "code",
        "colab": {}
      },
      "source": [
        "#Perintah untuk melihat list bagian dari file yang sudah diunduh dari Github\n",
        "\n",
        "!ls data/paddy/train\n",
        "!ls data/paddy/train/Jawa\n",
        "!ls data/paddy/train/Sumatra\n",
        "!ls data/paddy/train/Kalimantan\n",
        "#gambar dengan nama awalan dengan \"b\" adalah gambar yang terdapat padi\"\n",
        "#gambar dengan nama awalan dengan \"o\" adalah gambar yang tidak terdapat padi\""
      ],
      "execution_count": 0,
      "outputs": []
    },
    {
      "cell_type": "markdown",
      "metadata": {
        "id": "l9NgSp4590x4",
        "colab_type": "text"
      },
      "source": [
        "#Menampilkan Gambar Pelatihan"
      ]
    },
    {
      "cell_type": "code",
      "metadata": {
        "id": "qNykY5oDXB6O",
        "colab_type": "code",
        "colab": {}
      },
      "source": [
        "#Gambar yang terdapat lahan sawah padi\n",
        "plt.title(\"Gambar yang terdapat lahan sawah padi\")\n",
        "plt.imshow(imread(\"data/paddy/train/Jawa/b58.jpg\"))\n",
        "plt.show()\n",
        "\n",
        "#Gambar yang terdapat tidak lahan sawah padi\n",
        "plt.title(\"Gambar yang tidak terdapat lahan sawah padi\")\n",
        "plt.imshow(imread(\"data/paddy/train/Sumatra/o100.jpg\"))\n",
        "plt.show()\n"
      ],
      "execution_count": 0,
      "outputs": []
    },
    {
      "cell_type": "markdown",
      "metadata": {
        "id": "9VsXfTqPnW4a",
        "colab_type": "text"
      },
      "source": [
        "# Membuat \"patches\" dari setiap gambar menggunakan metode sliding window\n",
        "\n",
        "**Apa itu *Sliding Window* ?**\n",
        "\n",
        "*Sliding window* adalah window yang bergeser untuk memprediksi dan mencari area objek yang benar. Suatu proses deteksi objek memerlukan teknik lokalisasi \n",
        "untuk menemukan area objek. \n",
        "\n"
      ]
    },
    {
      "cell_type": "code",
      "metadata": {
        "id": "wd7YLs0APniF",
        "colab_type": "code",
        "colab": {}
      },
      "source": [
        "def save_to_folder(img_path,directory,size=56,overlap=0.4):\n",
        "    #Membaca gambar path penyimpanan window ke direktori/file yang spesifik\n",
        "    img = imread(img_path)\n",
        "    basename = os.path.basename(img_path)\n",
        "    fname = os.path.splitext(basename)[0]\n",
        "    windows = sw.generate(img, sw.DimOrder.HeightWidthChannel, size, overlap)\n",
        "    for i,window in enumerate(windows):\n",
        "        ii = str(\"{0:05d}\".format(i))\n",
        "        _fname = fname + \"_\" + ii + \".jpg\"\n",
        "        _img = img[window.indices()]\n",
        "        if _img.shape !=(size,size,3):\n",
        "            continue\n",
        "        img_target_path = os.path.join(directory,_fname)\n",
        "        \n",
        "        imsave(img_target_path,_img)\n",
        "\n",
        "#Mengembalikan daftar gambar train pada direktori\n",
        "#labels = ['Jawa', 'Kalimantan', 'Sumatra']\n",
        "\n",
        "#for i,label in enumerate(labels):\n",
        " #   folder = os.path.join(\"data/paddy/train\",label)\n",
        "  #  files = sorted(os.listdir(folder))\n",
        "   # files = [x for x in files if x.endswith(\".jpg\")]\n",
        "\n",
        "files = os.listdir(\"data/paddy/train/Jawa\")\n",
        "files = [x for x in files if x.endswith(\".jpg\")]\n",
        "\n",
        "#Menyimpan gambar yang telah dicacah pada folder chopped\n",
        "for file in files:\n",
        "    save_directory = \"data/paddy/chopped/Jawa\"\n",
        "    file = os.path.join(folder,file)\n",
        "    save_to_folder(file,save_directory)"
      ],
      "execution_count": 0,
      "outputs": []
    },
    {
      "cell_type": "code",
      "metadata": {
        "id": "aA5gBQv00okC",
        "colab_type": "code",
        "colab": {}
      },
      "source": [
        "files = os.listdir(\"data/paddy/train/Kalimantan\")\n",
        "files = [x for x in files if x.endswith(\".jpg\")]\n",
        "\n",
        "#Menyimpan gambar yang telah dicacah pada folder chopped\n",
        "for file in files:\n",
        "    save_directory = \"data/paddy/chopped/Kalimantan\"\n",
        "    file = os.path.join(folder,file)\n",
        "    save_to_folder(file,save_directory)"
      ],
      "execution_count": 0,
      "outputs": []
    },
    {
      "cell_type": "code",
      "metadata": {
        "id": "15XzXHjE0sZ4",
        "colab_type": "code",
        "colab": {}
      },
      "source": [
        "files = os.listdir(\"data/paddy/train/Sumatra\")\n",
        "files = [x for x in files if x.endswith(\".jpg\")]\n",
        "\n",
        "#Menyimpan gambar yang telah dicacah pada folder chopped\n",
        "for file in files:\n",
        "    save_directory = \"data/paddy/chopped/Sumatra\"\n",
        "    file = os.path.join(folder,file)\n",
        "    save_to_folder(file,save_directory)"
      ],
      "execution_count": 0,
      "outputs": []
    },
    {
      "cell_type": "code",
      "metadata": {
        "id": "PKlcAxigh-Pu",
        "colab_type": "code",
        "colab": {}
      },
      "source": [
        "from skimage.transform import resize"
      ],
      "execution_count": 0,
      "outputs": []
    },
    {
      "cell_type": "code",
      "metadata": {
        "id": "I_-lFky5Pnwh",
        "colab_type": "code",
        "colab": {}
      },
      "source": [
        "#Mengembalikan daftar gambar yang telah diacak pada direktori\n",
        "labels = ['Jawa', 'Kalimantan', 'Sumatra']\n",
        "\n",
        "#files = os.listdir(\"data/paddy/chopped/\")\n",
        "#files = [x for x in files if x.endswith(\".jpg\")]\n",
        "\n",
        "for i,label in enumerate(labels):\n",
        "    folder = os.path.join(\"data/paddy/chopped/\",label)\n",
        "    files = sorted(os.listdir(folder))\n",
        "    files = [x for x in files if x.endswith(\".jpg\")]\n",
        "\n",
        "#Memuat dataset Pelatihan\n",
        "x_train = []\n",
        "y_train = []\n",
        "\n",
        "for file in files:\n",
        "    if file.startswith(\"b\"):\n",
        "        label = 1\n",
        "    else:\n",
        "        label = 0\n",
        "\n",
        "    for k,file in enumerate(files):\n",
        "        img_path = os.path.join(folder, file)    \n",
        "\n",
        "    #img_path = os.path.join(\"data/paddy/chopped\",file)\n",
        "    img = load_img(img_path)\n",
        "    img = img_to_array(img)/255\n",
        "    x_train.append(img)\n",
        "    y_train.append(label)\n",
        "\n",
        "x_train= np.array(x_train)\n",
        "y_train= np.array(y_train)\n",
        "#print(x.shape,y.shape)\n",
        "\n",
        "\n",
        "#Memuat dataset pengujian\n",
        "X_test = []\n",
        "Y_test = []\n",
        "labels = ['Jawa', 'Kalimantan', 'Sumatra']\n",
        "\n",
        "for j,label in enumerate(labels):\n",
        "    folder = os.path.join(\"data/paddy/test\",label)\n",
        "    files = sorted(os.listdir(folder))\n",
        "    files = [x for x in files if x.endswith(\".jpg\")]\n",
        "    for k,file in enumerate(files):\n",
        "        image_path = os.path.join(folder, file)   \n",
        "        image = imread(image_path)/255.\n",
        "        image = resize(image,(56,56))\n",
        "        X_test.append(image)\n",
        "        category = os.path.split(folder)[-1]\n",
        "        Y_test.append(i)\n",
        "\n",
        "X_test = np.array(X_test)\n",
        "Y_test = np.array(Y_test)\n",
        "#print(X_test.shape,Y_test.shape)\n",
        "\n",
        "#print(\"Bentuk array dari dataset train (pelatihan) adalah:\", x_train.shape,y_train.shape)\n",
        "#print(\"Bentuk array dari dataset test (pengujian) adalah:\", X_test.shape,Y_test.shape)"
      ],
      "execution_count": 0,
      "outputs": []
    },
    {
      "cell_type": "code",
      "metadata": {
        "id": "ER1m26fDT4cS",
        "colab_type": "code",
        "colab": {}
      },
      "source": [
        "from sklearn.model_selection import train_test_split\n",
        "\n",
        "train_x, valid_x, train_y, valid_y = train_test_split(x_train,y_train,test_size=0.1,stratify = y_train)\n",
        "#x_valid,x_test, y_valid, y_test = train_test_split(X_test,Y_test,test_size=0.4, stratify = Y_test, random_state = 1)\n",
        "\n",
        "print(\"Bentuk array dari dataset train (pelatihan) adalah:\",x_train.shape,y_train.shape)\n",
        "print(\"Bentuk array dari dataset validation adalah:\",valid_x.shape,valid_y.shape)\n",
        "print(\"Bentuk array dari dataset test (pengujian) adalah:\",X_test.shape,Y_test.shape)\n"
      ],
      "execution_count": 0,
      "outputs": []
    },
    {
      "cell_type": "code",
      "metadata": {
        "id": "8VZscKf1L1Ez",
        "colab_type": "code",
        "colab": {}
      },
      "source": [
        "#Mengkomputasi kelas bobotnya\n",
        "print(np.unique(train_y,return_counts=True))\n",
        "print(np.unique(valid_y,return_counts=True))\n",
        "\n",
        "cw = compute_class_weight(\"balanced\",np.unique(train_y),train_y)\n",
        "print(cw)"
      ],
      "execution_count": 0,
      "outputs": []
    },
    {
      "cell_type": "markdown",
      "metadata": {
        "id": "xkuz17BzAfV6",
        "colab_type": "text"
      },
      "source": [
        "# Membuat Pemodelan dan Pelatihan Model\n",
        "\n",
        "Sesudah mengimpor dataset, kita akan menggunakan CNN, salah satu arsitektur Deep Learning yang dapat menghandle gambar. Dengan menggunakan Deep CNN, kita dibebaskan dari pendefinisian fitur yang cocok dan hanya memberikan gambar-gambar ke jaringan. CNN akan menentukan fitur yang paling cocok untuk pengklasifikasian."
      ]
    },
    {
      "cell_type": "markdown",
      "metadata": {
        "id": "GOicQRR9B5LA",
        "colab_type": "text"
      },
      "source": [
        "#Pembuatan Model"
      ]
    },
    {
      "cell_type": "code",
      "metadata": {
        "id": "phUI_16WT8cP",
        "colab_type": "code",
        "colab": {}
      },
      "source": [
        "model = Sequential([\n",
        "    layers.Conv2D(16,(3,3),name=\"conv1\",input_shape=(56,56,3),activation=\"relu\",padding=\"same\"),   \n",
        "    layers.MaxPool2D((2,2),name=\"pool1\"),\n",
        "    #layers.Dropout(0.05),\n",
        "    layers.Conv2D(32,(3,3),name=\"conv2\",padding=\"same\"),\n",
        "    layers.Activation(\"relu\"),\n",
        "    layers.MaxPool2D((2,2),name=\"pool2\"),\n",
        "    #layers.Dropout(0.05),\n",
        "    layers.Conv2D(32,(3,3),name=\"conv3\",padding=\"same\"),\n",
        "    layers.Activation(\"relu\"),\n",
        "    layers.MaxPool2D((2,2),name=\"pool3\"),\n",
        "    #layers.Dropout(0.05),\n",
        "    layers.Flatten(),\n",
        "    layers.Dense(64,activation=\"relu\"),\n",
        "    #layers.Dropout(0.05),\n",
        "    layers.Dense(1),\n",
        "    layers.Activation(\"sigmoid\",name=\"prediction\")\n",
        "]\n",
        ")\n",
        "\n",
        "model.compile(optimizer=\"adam\",loss=\"binary_crossentropy\",metrics=[\"acc\"])\n",
        "\n",
        "model.summary()"
      ],
      "execution_count": 0,
      "outputs": []
    },
    {
      "cell_type": "markdown",
      "metadata": {
        "id": "wgvLpS5fB_p2",
        "colab_type": "text"
      },
      "source": [
        "#Pelatihan\n"
      ]
    },
    {
      "cell_type": "code",
      "metadata": {
        "id": "HG4hXbgtT8e2",
        "colab_type": "code",
        "colab": {}
      },
      "source": [
        "from keras.callbacks import EarlyStopping, ModelCheckpoint \n",
        "\n",
        "#Menyimpan model bobot yang terbaik selama training\n",
        "ckpt = ModelCheckpoint(\"paddy.h5\", monitor='val_loss', verbose=1, save_best_only=True, save_weights_only=False, mode='auto', period=1)\n",
        "\n",
        "history = model.fit(train_x,train_y,batch_size=200,epochs=100,validation_data=(valid_x,valid_y),class_weight=cw, callbacks = [ckpt])"
      ],
      "execution_count": 0,
      "outputs": []
    },
    {
      "cell_type": "markdown",
      "metadata": {
        "id": "wm1yJK-cCJwJ",
        "colab_type": "text"
      },
      "source": [
        "#Menggambarkan Hasil Pelatihan"
      ]
    },
    {
      "cell_type": "code",
      "metadata": {
        "id": "m7TENQLTDbhl",
        "colab_type": "code",
        "colab": {}
      },
      "source": [
        "plt.plot(history.history[\"acc\"],label=\"Akurasi Pelatihan\")\n",
        "plt.plot(history.history[\"val_acc\"],label=\"Validasi Akurasi\")\n",
        "plt.legend()\n",
        "plt.show()\n",
        "\n",
        "plt.plot(history.history[\"loss\"],label=\"Kegagalan Pelatihan\")\n",
        "plt.plot(history.history[\"val_loss\"],label=\"Validasi Kegagalan\")\n",
        "plt.legend()\n",
        "plt.show()"
      ],
      "execution_count": 0,
      "outputs": []
    },
    {
      "cell_type": "markdown",
      "metadata": {
        "id": "xEawNgMdAi5T",
        "colab_type": "text"
      },
      "source": [
        "# Evaluasi Gambar Pelatihan dengan Gambar Test data"
      ]
    },
    {
      "cell_type": "code",
      "metadata": {
        "id": "94omqHJv2C2-",
        "colab_type": "code",
        "colab": {}
      },
      "source": [
        "#Memuat file bobot model keras \".h5\" dengan paling sedikit data validasi yang hilang/error\n",
        "\n",
        "model.load_weights(\"paddy.h5\")"
      ],
      "execution_count": 0,
      "outputs": []
    },
    {
      "cell_type": "code",
      "metadata": {
        "id": "JryLAxuU2DqR",
        "colab_type": "code",
        "colab": {}
      },
      "source": [
        "#Memeriksa matriks model\n",
        "print(model.metrics_names)\n",
        "#Evaluasi data training\n",
        "print(model.evaluate(x= train_x, y = train_y))\n",
        "#Evaluasi validasi data\n",
        "print(model.evaluate(x= valid_x, y = valid_y))\n",
        "#Evaluasi test data\n",
        "#print(model.evaluate(x= X_test3, y = Y_test3))"
      ],
      "execution_count": 0,
      "outputs": []
    },
    {
      "cell_type": "code",
      "metadata": {
        "id": "d2Mo-R4PmBr0",
        "colab_type": "code",
        "colab": {}
      },
      "source": [
        "#Menampilkan matriks yang benar dan matriks hasil prediksi\n",
        "\n",
        "#Label yang benar\n",
        "y_true = np.argmax(Y_test2,axis=1)\n",
        "\n",
        "#Label prediksi\n",
        "Y_pred = model.predict(X_test)\n",
        "y_pred = np.argmax(Y_pred, axis=1)\n",
        "\n",
        "print(y_true)\n",
        "print(y_pred)"
      ],
      "execution_count": 0,
      "outputs": []
    },
    {
      "cell_type": "code",
      "metadata": {
        "id": "sUb3oSsUpCQD",
        "colab_type": "code",
        "colab": {}
      },
      "source": [
        "from sklearn.metrics import confusion_matrix\n",
        "from sklearn.utils.multiclass import unique_labels\n",
        "\n",
        "def plot_confusion_matrix(y_true, y_pred, classes,\n",
        "                          normalize=False,\n",
        "                          title=None,\n",
        "                          cmap=plt.cm.Blues):\n",
        "    \"\"\"\n",
        "    This function prints and plots the confusion matrix.\n",
        "    Normalization can be applied by setting `normalize=True`.\n",
        "    \"\"\"\n",
        "    if not title:\n",
        "        if normalize:\n",
        "            title = 'Normalized confusion matrix'\n",
        "        else:\n",
        "            title = 'Confusion matrix, without normalization'\n",
        "\n",
        "    # Compute confusion matrix\n",
        "    cm = confusion_matrix(y_true, y_pred)\n",
        "    # Only use the labels that appear in the data\n",
        "    #classes = classes[unique_labels(y_true, y_pred)]\n",
        "    if normalize:\n",
        "        cm = cm.astype('float') / cm.sum(axis=1)[:, np.newaxis]\n",
        "        print(\"Normalized confusion matrix\")\n",
        "    else:\n",
        "        print('Confusion matrix, without normalization')\n",
        "\n",
        "    print(cm)\n",
        "\n",
        "    fig, ax = plt.subplots(figsize=(5,5))\n",
        "    im = ax.imshow(cm, interpolation='nearest', cmap=cmap)\n",
        "    #ax.figure.colorbar(im, ax=ax)\n",
        "    # We want to show all ticks...\n",
        "    ax.set(xticks=np.arange(cm.shape[1]),\n",
        "           yticks=np.arange(cm.shape[0]),\n",
        "           # ... and label them with the respective list entries\n",
        "           xticklabels=classes, yticklabels=classes,\n",
        "           title=title,\n",
        "           ylabel='Label Benar',\n",
        "           xlabel='Label Prediksi')\n",
        "\n",
        "    # Rotate the tick labels and set their alignment.\n",
        "    plt.setp(ax.get_xticklabels(), rotation=45, ha=\"right\",\n",
        "             rotation_mode=\"anchor\")\n",
        "\n",
        "    # Loop over data dimensions and create text annotations.\n",
        "    fmt = '.2f' if normalize else 'd'\n",
        "    thresh = cm.max() / 2.\n",
        "    for i in range(cm.shape[0]):\n",
        "        for j in range(cm.shape[1]):\n",
        "            ax.text(j, i, format(cm[i, j], fmt),\n",
        "                    ha=\"center\", va=\"center\",\n",
        "                    color=\"white\" if cm[i, j] > thresh else \"black\")\n",
        "    fig.tight_layout()\n",
        "    return ax\n",
        "\n",
        "\n",
        "np.set_printoptions(precision=2)\n",
        "\n",
        "plot_confusion_matrix(y_true, y_pred, classes=labels, normalize=True,\n",
        "                      title='Normalized confusion matrix')"
      ],
      "execution_count": 0,
      "outputs": []
    },
    {
      "cell_type": "code",
      "metadata": {
        "id": "Vf9HhjGyT8hf",
        "colab_type": "code",
        "cellView": "both",
        "colab": {}
      },
      "source": [
        "#Membaca Gambar Test Data dan Menampilkannya\n",
        "img_path = \"data/paddy/test/test_image/test_image2.jpg\"\n",
        "img = load_img(img_path)\n",
        "img = img_to_array(img)/255\n",
        "plt.imshow(img)\n",
        "plt.show()\n",
        "\n",
        "#Membuat subimages dengan patches menggunkan metode sliding windows\n",
        "patches = []\n",
        "windows = sw.generate(img, sw.DimOrder.HeightWidthChannel, 56, 0.6)\n",
        "for i,window in enumerate(windows):\n",
        "    _img = img[window.indices()]\n",
        "    patches.append(_img)\n",
        "patches = np.array(patches)\n",
        "\n",
        "#Mengecek total gambar dan banyaknya gambar yang terpasang pada height direction, maupun width direction\n",
        "n_total = len(windows)\n",
        "_x = 0\n",
        "for i,window in enumerate(windows):\n",
        "    if _x != window.x:\n",
        "        n_x = i\n",
        "        print(n_x)\n",
        "        break\n",
        "    _x = window.x\n",
        "\n",
        "\n",
        "print(n_total,n_x,n_total//n_x)"
      ],
      "execution_count": 0,
      "outputs": []
    },
    {
      "cell_type": "code",
      "metadata": {
        "id": "yxTmyErrlV_z",
        "colab_type": "code",
        "colab": {}
      },
      "source": [
        "plt.subplots_adjust(wspace=0.2, hspace=0.8)\n",
        "\n",
        "#Menampilkan beberapa gambar dari dataset pelatihan secara acak\n",
        "index = np.random.randint(0,X_test.shape[0],size=9)\n",
        "\n",
        "for i, idx  in enumerate(index):\n",
        "    plt.subplot(3,3,i+1)\n",
        "    \n",
        "    if y_test[idx] == 0:\n",
        "        label = \"Jawa\"\n",
        "    elif y_test[idx] == 1:\n",
        "        label = \"Kalimantan\"\n",
        "    else:\n",
        "        label = \"Sumatra\"\n",
        "    plt.title(label)\n",
        "    plt.imshow(X_test[idx])"
      ],
      "execution_count": 0,
      "outputs": []
    },
    {
      "cell_type": "markdown",
      "metadata": {
        "id": "4l2bta5zDDM-",
        "colab_type": "text"
      },
      "source": [
        "\n",
        "#Prediksi Gambar Individual"
      ]
    },
    {
      "cell_type": "code",
      "metadata": {
        "id": "f-RiaDEEUWQm",
        "colab_type": "code",
        "colab": {}
      },
      "source": [
        "#Memprediksi probalititas keberadaaan lahan sawah padi terhadap gambar yang telah dicacah \n",
        "#dan kembali pada gambar original\n",
        "predictions = model.predict(patches)\n",
        "print(predictions.shape)\n",
        "print(predictions)\n",
        "\n",
        "paddy = np.reshape(predictions,(n_total//n_x,n_x))\n",
        "paddy = np.rot90(paddy)\n",
        "paddy = np.flip(paddy,axis=0)\n",
        "plt.imshow(paddy,cmap=\"jet\")"
      ],
      "execution_count": 0,
      "outputs": []
    },
    {
      "cell_type": "markdown",
      "metadata": {
        "id": "yQ1xgDgbeGno",
        "colab_type": "text"
      },
      "source": [
        "**Catatan** :\n",
        "Bahwa setiap gambar sesuai dengan 1 piksel dari probabilitasnya, dan ukurannya tidak kompatibel dengan gambar input.\n",
        "Oleh karena itu peneliti akan menghitung faktor rasio dan mengubah ukurannya"
      ]
    },
    {
      "cell_type": "code",
      "metadata": {
        "id": "s-ZCEqv5UWTb",
        "colab_type": "code",
        "colab": {}
      },
      "source": [
        "#Array pada gambar diperbesar menggunakan interpolasi spline\n",
        "h_factor = img.shape[0]//paddy.shape[0]\n",
        "w_factor = img.shape[1]//paddy.shape[1]\n",
        "print(h_factor)\n",
        "\n",
        "from scipy.ndimage import zoom\n",
        "zoomed = zoom(paddy,(h_factor,w_factor))\n",
        "\n",
        "print(zoomed.shape)"
      ],
      "execution_count": 0,
      "outputs": []
    },
    {
      "cell_type": "code",
      "metadata": {
        "id": "2o8dGOlRUpXC",
        "colab_type": "code",
        "colab": {}
      },
      "source": [
        "#Menampilkan hasil gambar level tertentu\n",
        "plt.imshow(img)\n",
        "plt.show()\n",
        "\n",
        "plt.imshow(img)\n",
        "plt.imshow(zoomed,alpha=0.3,vmax=1.0,vmin=0,cmap=\"jet\")\n",
        "\n",
        "plt.colorbar(fraction=0.027, pad=0.04,alpha=0)\n",
        "plt.show()"
      ],
      "execution_count": 0,
      "outputs": []
    },
    {
      "cell_type": "markdown",
      "metadata": {
        "id": "x5VPdKjvhNTw",
        "colab_type": "text"
      },
      "source": [
        "#Menampilkan Komparasi Antar Wilayah Dengan Histogram"
      ]
    },
    {
      "cell_type": "code",
      "metadata": {
        "id": "ho45_OaivlHp",
        "colab_type": "code",
        "colab": {}
      },
      "source": [
        "import numpy as np\n",
        "import matplotlib.pyplot as plt\n",
        "from matplotlib.ticker import FuncFormatter\n",
        "\n",
        "data = {'Jawa': (akurasi),\n",
        "        'Kalimantan': (akurasi),\n",
        "        'Sumatra': (akurasi),\n",
        "        }\n",
        "group_data = list(data.values())\n",
        "group_names = list(data.keys())\n",
        "group_mean = np.mean(group_data)"
      ],
      "execution_count": 0,
      "outputs": []
    },
    {
      "cell_type": "code",
      "metadata": {
        "id": "gonxWIfY6eCd",
        "colab_type": "code",
        "colab": {}
      },
      "source": [
        "fig, ax = plt.subplots(figsize=(8, 10))\n",
        "\n",
        "ax.barh(group_names, group_data)\n",
        "labels = ax.get_xticklabels()\n",
        "plt.setp(labels, rotation=45, horizontalalignment='right')\n",
        "ax.set(xlim=[0, 100], xlabel='Tingkat Akurasi (%)', ylabel='Wilayah',\n",
        "       title='Akurasi')"
      ],
      "execution_count": 0,
      "outputs": []
    },
    {
      "cell_type": "code",
      "metadata": {
        "id": "z-QYF_5_6sjy",
        "colab_type": "code",
        "colab": {}
      },
      "source": [
        ""
      ],
      "execution_count": 0,
      "outputs": []
    },
    {
      "cell_type": "markdown",
      "metadata": {
        "id": "Qxpu7RjdFgrF",
        "colab_type": "text"
      },
      "source": [
        "#Menampilkan Luas Lahan Sawah yang berwarna Merah\n"
      ]
    },
    {
      "cell_type": "code",
      "metadata": {
        "id": "s8_5Qt4SLgP3",
        "colab_type": "code",
        "colab": {}
      },
      "source": [
        "plt.imshow(zoomed,alpha=1,vmax=1.0,vmin=0,cmap=\"jet\")"
      ],
      "execution_count": 0,
      "outputs": []
    },
    {
      "cell_type": "markdown",
      "metadata": {
        "id": "8303IMG0FtVf",
        "colab_type": "text"
      },
      "source": [
        "#Menghitung luas Sawah \n"
      ]
    },
    {
      "cell_type": "code",
      "metadata": {
        "id": "AKrNio_Yq755",
        "colab_type": "code",
        "colab": {}
      },
      "source": [
        "#Menampilkan nilai level zoomed dalam range acak\n",
        "print(\"Minimal level zoomed :\", np.min(zoomed))\n",
        "print(\"Maximal level zoomed :\", np.max(zoomed))"
      ],
      "execution_count": 0,
      "outputs": []
    },
    {
      "cell_type": "code",
      "metadata": {
        "id": "9Z-F4y2HncQw",
        "colab_type": "code",
        "colab": {}
      },
      "source": [
        "#Menampilkan nilai level zoomed dalam range 0 sampai 1\n",
        "normalized = (zoomed-np.min(zoomed))/(np.max(zoomed)-np.min(zoomed))\n",
        "print(\"Minimal level ternomalisasi:\", np.min(normalized))\n",
        "print(\"Maximal level ternomalisasi:\", np.max(normalized))"
      ],
      "execution_count": 0,
      "outputs": []
    },
    {
      "cell_type": "code",
      "metadata": {
        "id": "Y1JPeQNjsMpy",
        "colab_type": "code",
        "colab": {}
      },
      "source": [
        "#Menghitung luas lahan sawah dalam piksel\n",
        "#Tingkatan level warna dari 0 sampai 1 yang mencapai bentuk sawah adalah 0.5 (Nilai diantara 0 dan 1)\n",
        "luaspiksel=(normalized>0.5).sum()\n",
        "akurasi=((normalized>0.5).sum()*100/(normalized<1).sum())\n",
        "print(\"Luas lahan sawah dalam piksel :\", (luaspiksel))\n",
        "print(\"akurasi dalam piksel :\", (akurasi))"
      ],
      "execution_count": 0,
      "outputs": []
    },
    {
      "cell_type": "markdown",
      "metadata": {
        "id": "2OKhiPDUqPhX",
        "colab_type": "text"
      },
      "source": [
        "**\"Validasi Nilai Piksel ke dalam Meter\"**\n",
        "\n",
        "![image](https://raw.githubusercontent.com/Gio1709/paddy/master/zoomed%20gambar.jpg)\n",
        "\n",
        "Dapat dilakukan dengan cara :\n",
        "1.   Menzoom/memperbesar sampel gambar (sampai batas maksimum).\n",
        "2.   Menghitung jumlah piksel, sebagai contoh pada objek Bus. Diketahui pada umumnya Bus memiliki lebar sebesar 2,5 Meter. [Resolusi Gambar adalah 1116x632 piksel]\n",
        "3.   Kalkulasi nilai lebar Bus dalam piksel, disini berjumlah 8 piksel. Lalu dilakukan perhitungan sebagai berikut :\n",
        "    *   Nilai Meter/Piksel(**M/P**) = **M**(meter) / **P**(piksel)\n",
        "                           = 2,5 meter / 8 piksel\n",
        "                           = 0,3125 m/p \n",
        "                           ~= 0,3 m/p\n",
        "\n",
        "Maka konversi 1 piksel menjadi meter pada gambar ini sebesar 0,3 \n",
        "\n",
        "Untuk menghitung luas maka dilakukan dengan 0,3 x 0,3 = 0,09\n",
        "\n"
      ]
    },
    {
      "cell_type": "markdown",
      "metadata": {
        "id": "9AuYWLtj-nM-",
        "colab_type": "text"
      },
      "source": [
        "**Atau dengan pembanding validitas lainnya, yaitu menggunakan software Google Earth**\n",
        "\n",
        "![image](https://raw.githubusercontent.com/Gio1709/paddy/master/google%20earth.jpg)\n",
        "\n",
        "Disini diketahui :\n",
        "*   Jumlah piksel pada garis berwarna kuning adalah 42 piksel\n",
        "*   Panjang garis berwarna kuning adalah 14,5 meter\n",
        "\n",
        "Dengan cara yang sama seprti sebelumnya :\n",
        " \n",
        " dilakukan perhitungan sebagai berikut :\n",
        "\n",
        "    *   Nilai Meter/Piksel(M/P) = M(meter) / P(piksel)\n",
        "                           = 14,5 meter / 42 piksel\n",
        "                           = 0,323 m/p \n",
        "                           ~= 0,3 m/p"
      ]
    },
    {
      "cell_type": "code",
      "metadata": {
        "id": "E5cIZdEVtOC9",
        "colab_type": "code",
        "colab": {}
      },
      "source": [
        "#Setelah diketahui luas sawah dalam piksel, kemudian menkonversi dalam meter dan hektar\n",
        "#Untuk menghitung luas maka dilakukan dengan 0,3 x 0,3 = 0,09 \n",
        "luasmtr = 0.1089*(luaspiksel)\n",
        "luasha = (luasmtr)/10000\n",
        "print(\"Luas lahan sawah dalam meter persegi :\", (luasmtr))\n",
        "print(\"Luas lahan sawah dalam hektar :\", (luasha))"
      ],
      "execution_count": 0,
      "outputs": []
    }
  ]
}